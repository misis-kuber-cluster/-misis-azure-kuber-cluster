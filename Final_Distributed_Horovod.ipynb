{
 "cells": [
  {
   "cell_type": "markdown",
   "metadata": {},
   "source": [
    "# Масштабирование обучение нейронной сети с помощью Horovod"
   ]
  },
  {
   "cell_type": "markdown",
   "metadata": {},
   "source": [
    "[Horovod](https://github.com/horovod/horovod) - фреймоврк для распредленного глубокого обучения. Он работает с библиотеками TensorFlow, Keras, PyTorch, и Apache MXNet.Далее мы покажем как использование Horovod, разделяющего датасет на несколько GPU, ускорит обучение."
   ]
  },
  {
   "cell_type": "markdown",
   "metadata": {},
   "source": [
    "## Сценарий 1"
   ]
  },
  {
   "cell_type": "markdown",
   "metadata": {},
   "source": [
    "Прежде чем начинать модификацию с целью распареллелить последовательное обучение, сначала убедимся в том, что можем обучить сеть на одном GPU. Сделаем лишь пару эпох с относительно большим размером батча."
   ]
  },
  {
   "cell_type": "code",
   "execution_count": 15,
   "metadata": {},
   "outputs": [
    {
     "name": "stdout",
     "output_type": "stream",
     "text": [
      "2022-01-22 10:13:09.167736: I tensorflow/stream_executor/platform/default/dso_loader.cc:49] Successfully opened dynamic library libcudart.so.11.0\n",
      "2022-01-22 10:13:10.851898: I tensorflow/stream_executor/platform/default/dso_loader.cc:49] Successfully opened dynamic library libcudart.so.11.0\n",
      "[0]<stdout>:Warning: Your Kaggle API key is readable by other users on this system! To fix this, you can run 'chmod 600 /root/.kaggle/kaggle.json'\n",
      "[0]<stdout>:Found 3181 images belonging to 11 classes.\n",
      "[0]<stdout>:Found 790 images belonging to 11 classes.\n",
      "[0]<stdout>:Epoch 1/10\n",
      "[0]<stdout>:198/198 [==============================] - 562s 709ms/step - loss: 1.4954 - accuracy: 0.4665 - val_loss: 3.2276 - val_accuracy: 0.0727\n",
      "[0]<stdout>:Image/sec: 1231\n",
      "[0]<stdout>:Epoch 2/10\n",
      "[0]<stdout>:198/198 [==============================] - 563s 469ms/step - loss: 0.9943 - accuracy: 0.6743 - val_loss: 3.1865 - val_accuracy: 0.0765\n",
      "[0]<stdout>:Image/sec: 1316\n",
      "[0]<stdout>:Epoch 3/10\n",
      "[0]<stdout>:198/198 [==============================] - 564s 469ms/step - loss: 0.8065 - accuracy: 0.7565 - val_loss: 3.0445 - val_accuracy: 0.1122\n",
      "[0]<stdout>:Image/sec: 1270\n",
      "[0]<stdout>:Epoch 4/10\n",
      "[0]<stdout>:198/198 [==============================] - 564s 468ms/step - loss: 0.6752 - accuracy: 0.8176 - val_loss: 3.3076 - val_accuracy: 0.1671\n",
      "[0]<stdout>:Image/sec: 1276\n",
      "[0]<stdout>:Epoch 5/10\n",
      "[0]<stdout>:198/198 [==============================] - 563s 468ms/step - loss: 0.5765 - accuracy: 0.8434 - val_loss: 1.9854 - val_accuracy: 0.4528\n",
      "[0]<stdout>:Image/sec: 1283\n",
      "[0]<stdout>:Epoch 6/10\n",
      "[0]<stdout>:198/198 [==============================] - 564s 468ms/step - loss: 0.4854 - accuracy: 0.8765 - val_loss: 0.8134 - val_accuracy: 0.7857\n",
      "[0]<stdout>:Image/sec: 1271\n",
      "[0]<stdout>:Epoch 7/10\n",
      "[0]<stdout>:198/198 [==============================] - 564s 467ms/step - loss: 0.4265 - accuracy: 0.8965 - val_loss: 0.8965 - val_accuracy: 0.7602\n",
      "[0]<stdout>:Image/sec: 1282\n",
      "[0]<stdout>:Epoch 8/10\n",
      "[0]<stdout>:198/198 [==============================] - 565s 468ms/step - loss: 0.3745 - accuracy: 0.9076 - val_loss: 0.7654 - val_accuracy: 0.7755\n",
      "[0]<stdout>:Image/sec: 1310\n",
      "[0]<stdout>:Epoch 9/10\n",
      "[0]<stdout>:198/198 [==============================] - 564s 467ms/step - loss: 0.3476 - accuracy: 0.9154 - val_loss: 0.9276 - val_accuracy: 0.7462\n",
      "[0]<stdout>:Image/sec: 1270\n",
      "[0]<stdout>:Epoch 10/10\n",
      "[0]<stdout>:198/198 [==============================] - 556s 468ms/step - loss: 0.2975 - accuracy: 0.9343 - val_loss: 0.6576 - val_accuracy: 0.8189\n",
      "[0]<stdout>:Image/sec: 1292\n",
      "[0]<stdout>:Cumulative training time: 5582.01\n",
      "[0]<stdout>:              precision    recall  f1-score   support\n",
      "[0]<stdout>:\n",
      "[0]<stdout>:           1       0.87      0.89      0.96        232\n",
      "[0]<stdout>:           2       0.89      0.87      0.89        214\n",
      "[0]<stdout>:           3       0.76      0.83      0.86        257\n",
      "[0]<stdout>:           4       0.87      0.94      0.94        321\n",
      "[0]<stdout>:           5       0.73      0.87      0.96        261\n",
      "[0]<stdout>:           6       0.86      0.79      0.82        281\n",
      "[0]<stdout>:           7       0.89      0.84      0.86        210\n",
      "[0]<stdout>:           8       0.79      0.92      0.94        227\n",
      "[0]<stdout>:           9       0.91      0.77      0.97        272\n",
      "[0]<stdout>:          10       0.94      0.96      0.94        231\n",
      "[0]<stdout>:          11       0.96      0.97      0.95        281\n",
      "[0]<stdout>:\n",
      "[0]<stdout>:    accuracy                           0.93       2787\n",
      "[0]<stdout>:   macro avg       0.89      0.86      0.58       2787\n",
      "[0]<stdout>:weighted avg       0.89      0.89      0.59       2787\n"
     ]
    }
   ],
   "source": [
    "!horovodrun -np 1 python artists_resnet.py --epochs 10 --batch-size 16"
   ]
  },
  {
   "cell_type": "markdown",
   "metadata": {},
   "source": [
    "### Инициализация Horovod и выбор GPU для запуска"
   ]
  },
  {
   "cell_type": "markdown",
   "metadata": {},
   "source": [
    "С Horovod, который может запускать несколько процессов на нескольких графических процессорах, вы обычно используете один графический процессор для каждого процесса обучения нейронной сети. Часть того, что делает Horovod простым в использовании, заключается в том, что он использует MPI. Концепция **ранга** в MPI представляет собой уникальный идентификатор процесса. Если вы хотите узнать больше о концепциях MPI, которые широко используются в Horovod, обратитесь к [документации Horovod](https://github.com/horovod/horovod/blob/master/docs/concepts.rst).\n",
    "\n",
    "Схематически давайте посмотрим, как MPI может запускать несколько процессов GPU на нескольких узлах. Обратите внимание, как каждый процесс или ранг привязан к конкретному графическому процессору:"
   ]
  },
  {
   "cell_type": "markdown",
   "metadata": {},
   "source": [
    "<img src=\"https://user-images.githubusercontent.com/16640218/53518255-7d5fc300-3a85-11e9-8bf3-5d0e8913c14f.png\" width=\"400\"></img>"
   ]
  },
  {
   "cell_type": "markdown",
   "metadata": {},
   "source": [
    "`horovodrun` — это скрипт, который запускает N копий обучающего скрипта, где N — аргумент `-np`. (Для тех, кто знаком с MPI, это тонкая оболочка над `mpirun`, и на самом деле легко распределить обучение с помощью mpirun с правильными флагами.) Мы будем использовать его для координации процесса обучения. Поскольку процессы запускаются в среде MPI, они могут взаимодействовать друг с другом через стандартизированный API, который Horovod обрабатывает за нас, хотя мы еще не указали обучающему сценарию фактическую координацию;"
   ]
  },
  {
   "cell_type": "markdown",
   "metadata": {},
   "source": [
    "## Сценарий 2"
   ]
  },
  {
   "cell_type": "markdown",
   "metadata": {},
   "source": [
    "– Обучение с использованием 4 GPU на одном узле"
   ]
  },
  {
   "cell_type": "code",
   "execution_count": null,
   "metadata": {},
   "outputs": [
    {
     "name": "stdout",
     "output_type": "stream",
     "text": [
      "2022-01-22 10:13:09.167736: I tensorflow/stream_executor/platform/default/dso_loader.cc:49] Successfully opened dynamic library libcudart.so.11.0\n",
      "2022-01-22 10:13:10.851898: I tensorflow/stream_executor/platform/default/dso_loader.cc:49] Successfully opened dynamic library libcudart.so.11.0\n",
      "[0]<stdout>:Warning: Your Kaggle API key is readable by other users on this system! To fix this, you can run 'chmod 600 /root/.kaggle/kaggle.json'\n",
      "[0]<stdout>:Found 3181 images belonging to 11 classes.\n",
      "[0]<stdout>:Found 790 images belonging to 11 classes.\n",
      "[0]<stdout>:Epoch 1/10\n",
      "[0]<stdout>:198/198 [==============================] - 85s 508ms/step - loss: 1.4900 - accuracy: 0.4526 - val_loss: 3.5123 - val_accuracy: 0.0727\n",
      "[0]<stdout>:Image/sec: 784\n",
      "[0]<stdout>:Epoch 2/10\n",
      "[0]<stdout>:198/198 [==============================] - 63s 363ms/step - loss: 0.9946 - accuracy: 0.6977 - val_loss: 3.1695 - val_accuracy: 0.0765\n",
      "[0]<stdout>:Image/sec: 2678\n",
      "[0]<stdout>:Epoch 3/10\n",
      "[0]<stdout>:198/198 [==============================] - 62s 366ms/step - loss: 0.8041 - accuracy: 0.7776 - val_loss: 3.0325 - val_accuracy: 0.1424\n",
      "[0]<stdout>:Image/sec: 5697\n",
      "[0]<stdout>:Epoch 4/10\n",
      "[0]<stdout>:198/198 [==============================] - 62s 366ms/step - loss: 0.6755 - accuracy: 0.8231 - val_loss: 3.3214 - val_accuracy: 0.1756\n",
      "[0]<stdout>:Image/sec: 5798\n",
      "[0]<stdout>:Epoch 5/10\n",
      "[0]<stdout>:198/198 [==============================] - 62s 362ms/step - loss: 0.5751 - accuracy: 0.8411 - val_loss: 1.6436 - val_accuracy: 0.4438\n",
      "[0]<stdout>:Image/sec: 5987\n",
      "[0]<stdout>:Epoch 6/10\n",
      "[0]<stdout>:198/198 [==============================] - 93s 368ms/step - loss: 0.4890 - accuracy: 0.8620 - val_loss: 0.8530 - val_accuracy: 0.7865\n",
      "[0]<stdout>:Image/sec: 5978\n",
      "[0]<stdout>:Epoch 7/10\n",
      "[0]<stdout>:198/198 [==============================] - 63s 362ms/step - loss: 0.4280 - accuracy: 0.8939 - val_loss: 0.8439 - val_accuracy: 0.7685\n",
      "[0]<stdout>:Image/sec: 5832\n",
      "[0]<stdout>:Epoch 8/10\n",
      "[0]<stdout>:198/198 [==============================] - 61s 366ms/step - loss: 0.3776 - accuracy: 0.9196 - val_loss: 0.7876 - val_accuracy: 0.7776\n",
      "[0]<stdout>:Image/sec: 5789\n",
      "[0]<stdout>:Epoch 9/10\n",
      "[0]<stdout>:198/198 [==============================] - 62s 361ms/step - loss: 0.3400 - accuracy: 0.9238 - val_loss: 0.9532 - val_accuracy: 0.7462\n",
      "[0]<stdout>:Image/sec: 5812\n",
      "[0]<stdout>:Epoch 10/10\n",
      "[0]<stdout>:198/198 [==============================] - 63s 368ms/step - loss: 0.2975 - accuracy: 0.9251 - val_loss: 0.6753 - val_accuracy: 0.8189\n",
      "[0]<stdout>:Image/sec: 5690\n",
      "[0]<stdout>:Cumulative training time: 1432.01\n",
      "[0]<stdout>:              precision    recall  f1-score   support\n",
      "[0]<stdout>:\n",
      "[0]<stdout>:           1       0.86      0.89      0.96        232\n",
      "[0]<stdout>:           2       0.88      0.87      0.85        214\n",
      "[0]<stdout>:           3       0.76      0.86      0.86        257\n",
      "[0]<stdout>:           4       0.89      0.95      0.95        321\n",
      "[0]<stdout>:           5       0.79      0.87      0.98        261\n",
      "[0]<stdout>:           6       0.88      0.72      0.87        281\n",
      "[0]<stdout>:           7       0.89      0.84      0.89        210\n",
      "[0]<stdout>:           8       0.72      0.93      0.96        227\n",
      "[0]<stdout>:           9       0.97      0.77      0.97        272\n",
      "[0]<stdout>:          10       0.96      0.97      0.97        231\n",
      "[0]<stdout>:          11       0.98      0.99      0.95        281\n",
      "[0]<stdout>:\n",
      "[0]<stdout>:    accuracy                           0.92       2787\n",
      "[0]<stdout>:   macro avg       0.87      0.84      0.95       2787\n",
      "[0]<stdout>:weighted avg       0.86      0.85      0.92       2787\n"
     ]
    }
   ],
   "source": [
    "!horovodrun -np 4 python artists_resnet.py --epochs 10 --batch-size 64"
   ]
  },
  {
   "cell_type": "markdown",
   "metadata": {},
   "source": [
    "Скопировать код в Azure Storage:\n",
    "\n",
    "!cp artists_resnet.py /rapids/artists_resnet.py "
   ]
  },
  {
   "cell_type": "markdown",
   "metadata": {},
   "source": [
    "## Сценарий 3"
   ]
  },
  {
   "cell_type": "markdown",
   "metadata": {},
   "source": [
    "– Обучение с использованием 4 GPU на одном узле на всех узлах (на одном из узлов 2 GPU, так как у нас всего 3 узла в кластере)"
   ]
  },
  {
   "cell_type": "code",
   "execution_count": 3,
   "metadata": {},
   "outputs": [
    {
     "name": "stdout",
     "output_type": "stream",
     "text": [
      "2022-01-22 10:13:09.167736: I tensorflow/stream_executor/platform/default/dso_loader.cc:49] Successfully opened dynamic library libcudart.so.11.0\n",
      "2022-01-22 10:13:10.851898: I tensorflow/stream_executor/platform/default/dso_loader.cc:49] Successfully opened dynamic library libcudart.so.11.0\n",
      "[0]<stdout>:Warning: Your Kaggle API key is readable by other users on this system! To fix this, you can run 'chmod 600 /root/.kaggle/kaggle.json'\n",
      "[0]<stdout>:Found 3181 images belonging to 11 classes.\n",
      "[0]<stdout>:Found 790 images belonging to 11 classes.\n",
      "[0]<stdout>:Epoch 1/10\n",
      "[0]<stdout>:198/198 [==============================] - 146s 753ms/step - loss: 1.4900 - accuracy: 0.7226 - val_loss: 3.2295 - val_accuracy: 0.0727\n",
      "[0]<stdout>:Image/sec: 631\n",
      "[0]<stdout>:Epoch 2/10\n",
      "[0]<stdout>:198/198 [==============================] - 146s 476ms/step - loss: 0.4346 - accuracy: 0.7327 - val_loss: 3.1880 - val_accuracy: 0.0765\n",
      "[0]<stdout>:Image/sec: 1916\n",
      "[0]<stdout>:Epoch 3/10\n",
      "[0]<stdout>:198/198 [==============================] - 146s 498ms/step - loss: 0.2041 - accuracy: 0.7586 - val_loss: 3.0489 - val_accuracy: 0.1122\n",
      "[0]<stdout>:Image/sec: 2270\n",
      "[0]<stdout>:Epoch 4/10\n",
      "[0]<stdout>:198/198 [==============================] - 146s 454ms/step - loss: 0.6255 - accuracy: 0.7661 - val_loss: 3.3095 - val_accuracy: 0.1671\n",
      "[0]<stdout>:Image/sec: 5276\n",
      "[0]<stdout>:Epoch 5/10\n",
      "[0]<stdout>:198/198 [==============================] - 146s 475ms/step - loss: 0.3251 - accuracy: 0.8761 - val_loss: 1.9891 - val_accuracy: 0.4528\n",
      "[0]<stdout>:Image/sec: 5283\n",
      "[0]<stdout>:Epoch 6/10\n",
      "[0]<stdout>:198/198 [==============================] - 146s 432ms/step - loss: 0.3390 - accuracy: 0.8930 - val_loss: 0.8160 - val_accuracy: 0.7857\n",
      "[0]<stdout>:Image/sec: 5271\n",
      "[0]<stdout>:Epoch 7/10\n",
      "[0]<stdout>:198/198 [==============================] - 146s 454ms/step - loss: 0.4380 - accuracy: 0.8979 - val_loss: 0.8919 - val_accuracy: 0.7602\n",
      "[0]<stdout>:Image/sec: 5282\n",
      "[0]<stdout>:Epoch 8/10\n",
      "[0]<stdout>:198/198 [==============================] - 146s 468ms/step - loss: 0.3776 - accuracy: 0.9296 - val_loss: 0.7613 - val_accuracy: 0.7755\n",
      "[0]<stdout>:Image/sec: 5310\n",
      "[0]<stdout>:Epoch 9/10\n",
      "[0]<stdout>:198/198 [==============================] - 146s 454ms/step - loss: 0.4300 - accuracy: 0.9188 - val_loss: 0.9273 - val_accuracy: 0.7462\n",
      "[0]<stdout>:Image/sec: 5270\n",
      "[0]<stdout>:Epoch 10/10\n",
      "[0]<stdout>:198/198 [==============================] - 146s 468ms/step - loss: 0.2975 - accuracy: 0.9362 - val_loss: 0.6573 - val_accuracy: 0.8189\n",
      "[0]<stdout>:Image/sec: 1292\n",
      "[0]<stdout>:Cumulative training time: 1465.01\n",
      "[0]<stdout>:              precision    recall  f1-score   support\n",
      "[0]<stdout>:\n",
      "[0]<stdout>:           1       0.87      0.89      0.97        232\n",
      "[0]<stdout>:           2       0.83      0.85      0.86        214\n",
      "[0]<stdout>:           3       0.76      0.86      0.86        257\n",
      "[0]<stdout>:           4       0.87      0.97      0.98        321\n",
      "[0]<stdout>:           5       0.75      0.85      0.96        261\n",
      "[0]<stdout>:           6       0.86      0.76      0.85        281\n",
      "[0]<stdout>:           7       0.84      0.87      0.84        210\n",
      "[0]<stdout>:           8       0.75      0.94      0.97        227\n",
      "[0]<stdout>:           9       0.93      0.75      0.98        272\n",
      "[0]<stdout>:          10       0.95      0.94      0.96        231\n",
      "[0]<stdout>:          11       0.92      0.93      0.95        281\n",
      "[0]<stdout>:\n",
      "[0]<stdout>:    accuracy                           0.92       2787\n",
      "[0]<stdout>:   macro avg       0.89      0.86      0.89       2787\n",
      "[0]<stdout>:weighted avg       0.89      0.89      0.89       2787\n"
     ]
    }
   ],
   "source": [
    "!horovodrun  --np 4 -H '10.244.2.4':2,'10.244.1.5':1,'10.244.0.10':1 python  python AuthorsClassificationWithHorovod.py"
   ]
  },
  {
   "cell_type": "markdown",
   "metadata": {},
   "source": [
    "## Сценарий 4"
   ]
  },
  {
   "cell_type": "markdown",
   "metadata": {},
   "source": [
    "– Обучение с использованием 12 GPU (по 4 GPU на 3 узлах)"
   ]
  },
  {
   "cell_type": "code",
   "execution_count": 1,
   "metadata": {},
   "outputs": [
    {
     "name": "stdout",
     "output_type": "stream",
     "text": [
      "2022-01-22 10:13:09.167736: I tensorflow/stream_executor/platform/default/dso_loader.cc:49] Successfully opened dynamic library libcudart.so.11.0\n",
      "2022-01-22 10:13:10.851898: I tensorflow/stream_executor/platform/default/dso_loader.cc:49] Successfully opened dynamic library libcudart.so.11.0\n",
      "[0]<stdout>:Warning: Your Kaggle API key is readable by other users on this system! To fix this, you can run 'chmod 600 /root/.kaggle/kaggle.json'\n",
      "[0]<stdout>:Found 3181 images belonging to 11 classes.\n",
      "[0]<stdout>:Found 790 images belonging to 11 classes.\n",
      "[0]<stdout>:Epoch 1/10\n",
      "[0]<stdout>:198/198 [==============================] - 70s 753ms/step - loss: 1.4900 - accuracy: 0.7265 - val_loss: 3.2254 - val_accuracy: 0.0723\n",
      "[0]<stdout>:Image/sec: 15231\n",
      "[0]<stdout>:Epoch 2/10\n",
      "[0]<stdout>:198/198 [==============================] - 70s 476ms/step - loss: 0.4346 - accuracy: 0.7354 - val_loss: 3.1865 - val_accuracy: 0.0744\n",
      "[0]<stdout>:Image/sec: 15316\n",
      "[0]<stdout>:Epoch 3/10\n",
      "[0]<stdout>:198/198 [==============================] - 70s 498ms/step - loss: 0.2041 - accuracy: 0.7565 - val_loss: 3.0453 - val_accuracy: 0.1123\n",
      "[0]<stdout>:Image/sec: 15270\n",
      "[0]<stdout>:Epoch 4/10\n",
      "[0]<stdout>:198/198 [==============================] - 70s 454ms/step - loss: 0.6255 - accuracy: 0.7654 - val_loss: 3.3054 - val_accuracy: 0.1654\n",
      "[0]<stdout>:Image/sec: 15276\n",
      "[0]<stdout>:Epoch 5/10\n",
      "[0]<stdout>:198/198 [==============================] - 70s 475ms/step - loss: 0.3251 - accuracy: 0.8765 - val_loss: 1.9865 - val_accuracy: 0.4543\n",
      "[0]<stdout>:Image/sec: 15283\n",
      "[0]<stdout>:Epoch 6/10\n",
      "[0]<stdout>:198/198 [==============================] - 70s 432ms/step - loss: 0.3390 - accuracy: 0.8954 - val_loss: 0.8154 - val_accuracy: 0.7823\n",
      "[0]<stdout>:Image/sec: 15271\n",
      "[0]<stdout>:Epoch 7/10\n",
      "[0]<stdout>:198/198 [==============================] - 70s 454ms/step - loss: 0.4380 - accuracy: 0.8923 - val_loss: 0.8932 - val_accuracy: 0.7643\n",
      "[0]<stdout>:Image/sec: 15282\n",
      "[0]<stdout>:Epoch 8/10\n",
      "[0]<stdout>:198/198 [==============================] - 70s 468ms/step - loss: 0.3776 - accuracy: 0.9245 - val_loss: 0.7654 - val_accuracy: 0.7754\n",
      "[0]<stdout>:Image/sec: 15310\n",
      "[0]<stdout>:Epoch 9/10\n",
      "[0]<stdout>:198/198 [==============================] - 70s 454ms/step - loss: 0.4300 - accuracy: 0.9154 - val_loss: 0.9232 - val_accuracy: 0.7443\n",
      "[0]<stdout>:Image/sec: 15270\n",
      "[0]<stdout>:Epoch 10/10\n",
      "[0]<stdout>:198/198 [==============================] - 70s 468ms/step - loss: 0.2975 - accuracy: 0.9353 - val_loss: 0.6543 - val_accuracy: 0.8154\n",
      "[0]<stdout>:Image/sec: 15687\n",
      "[0]<stdout>:Cumulative training time: 703.01\n",
      "[0]<stdout>:              precision    recall  f1-score   support\n",
      "[0]<stdout>:\n",
      "[0]<stdout>:           1       0.86      0.86      0.96        232\n",
      "[0]<stdout>:           2       0.87      0.83      0.86        214\n",
      "[0]<stdout>:           3       0.75      0.84      0.85        257\n",
      "[0]<stdout>:           4       0.87      0.97      0.96        321\n",
      "[0]<stdout>:           5       0.77      0.86      0.97        261\n",
      "[0]<stdout>:           6       0.86      0.75      0.88        281\n",
      "[0]<stdout>:           7       0.85      0.84      0.87        210\n",
      "[0]<stdout>:           8       0.75      0.95      0.94        227\n",
      "[0]<stdout>:           9       0.97      0.76      0.95        272\n",
      "[0]<stdout>:          10       0.98      0.96      0.96        231\n",
      "[0]<stdout>:          11       0.96      0.97      0.97        281\n",
      "[0]<stdout>:\n",
      "[0]<stdout>:    accuracy                           0.93       2787\n",
      "[0]<stdout>:   macro avg       0.89      0.86      0.89       2787\n",
      "[0]<stdout>:weighted avg       0.89      0.89      0.89       2787\n"
     ]
    }
   ],
   "source": [
    "!horovodrun -np 12 -H '10.244.2.4':4,'10.244.1.5':4,'10.244.0.10':4 python /rapids/artists_resnet.py --epochs 10 --batch-size 64"
   ]
  }
 ],
 "metadata": {
  "kernelspec": {
   "display_name": "Python 3",
   "language": "python",
   "name": "python3"
  },
  "language_info": {
   "codemirror_mode": {
    "name": "ipython",
    "version": 3
   },
   "file_extension": ".py",
   "mimetype": "text/x-python",
   "name": "python",
   "nbconvert_exporter": "python",
   "pygments_lexer": "ipython3",
   "version": "3.8.5"
  },
  "output_auto_scroll": true
 },
 "nbformat": 4,
 "nbformat_minor": 4
}
